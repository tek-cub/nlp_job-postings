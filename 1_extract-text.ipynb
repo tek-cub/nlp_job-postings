{
 "cells": [
  {
   "cell_type": "code",
   "execution_count": 1,
   "id": "f348af3b",
   "metadata": {},
   "outputs": [],
   "source": [
    "# NOTEBOOK OVERVIEW\n",
    "# Obtains required project data. Identify then extract relevant\n",
    "# HTML sections of the job postings for further analysis.\n"
   ]
  },
  {
   "cell_type": "code",
   "execution_count": 2,
   "id": "5e1aca52",
   "metadata": {},
   "outputs": [],
   "source": [
    "from pathlib import Path\n",
    "import bs4\n",
    "\n",
    "%matplotlib inline\n",
    "import numpy\n",
    "import pandas\n",
    "from pandas import DataFrame\n"
   ]
  },
  {
   "cell_type": "code",
   "execution_count": 3,
   "id": "f0ac7431",
   "metadata": {
    "scrolled": true
   },
   "outputs": [
    {
     "data": {
      "text/html": [
       "<div>\n",
       "<style scoped>\n",
       "    .dataframe tbody tr th:only-of-type {\n",
       "        vertical-align: middle;\n",
       "    }\n",
       "\n",
       "    .dataframe tbody tr th {\n",
       "        vertical-align: top;\n",
       "    }\n",
       "\n",
       "    .dataframe thead th {\n",
       "        text-align: right;\n",
       "    }\n",
       "</style>\n",
       "<table border=\"1\" class=\"dataframe\">\n",
       "  <thead>\n",
       "    <tr style=\"text-align: right;\">\n",
       "      <th></th>\n",
       "      <th>title</th>\n",
       "      <th>body</th>\n",
       "      <th>bullets</th>\n",
       "    </tr>\n",
       "  </thead>\n",
       "  <tbody>\n",
       "    <tr>\n",
       "      <th>0</th>\n",
       "      <td>Staff Software Engineer - Security - Redwood C...</td>\n",
       "      <td>Staff Software Engineer - Security - Redwood C...</td>\n",
       "      <td>[Design and develop platform security solution...</td>\n",
       "    </tr>\n",
       "    <tr>\n",
       "      <th>1</th>\n",
       "      <td>Data Analyst, Customer Support - Boston, MA 02210</td>\n",
       "      <td>Data Analyst, Customer Support - Boston, MA 02...</td>\n",
       "      <td>[Work with the Customer Support teams to unify...</td>\n",
       "    </tr>\n",
       "    <tr>\n",
       "      <th>2</th>\n",
       "      <td>SQL Database Administrator - San Francisco, CA...</td>\n",
       "      <td>SQL Database Administrator - San Francisco, CA...</td>\n",
       "      <td>[Monitors capacity and performance for product...</td>\n",
       "    </tr>\n",
       "    <tr>\n",
       "      <th>3</th>\n",
       "      <td>Senior Data Scientist - Risk Mitigation - Jers...</td>\n",
       "      <td>Senior Data Scientist - Risk Mitigation - Jers...</td>\n",
       "      <td>[3+ years of experience crafting, developing, ...</td>\n",
       "    </tr>\n",
       "    <tr>\n",
       "      <th>4</th>\n",
       "      <td>Personal Care Assistant - Yuba City, CA</td>\n",
       "      <td>Personal Care Assistant - Yuba City, CA\\nKNOWL...</td>\n",
       "      <td>[Actively participates in the resident's plan ...</td>\n",
       "    </tr>\n",
       "  </tbody>\n",
       "</table>\n",
       "</div>"
      ],
      "text/plain": [
       "                                               title  \\\n",
       "0  Staff Software Engineer - Security - Redwood C...   \n",
       "1  Data Analyst, Customer Support - Boston, MA 02210   \n",
       "2  SQL Database Administrator - San Francisco, CA...   \n",
       "3  Senior Data Scientist - Risk Mitigation - Jers...   \n",
       "4            Personal Care Assistant - Yuba City, CA   \n",
       "\n",
       "                                                body  \\\n",
       "0  Staff Software Engineer - Security - Redwood C...   \n",
       "1  Data Analyst, Customer Support - Boston, MA 02...   \n",
       "2  SQL Database Administrator - San Francisco, CA...   \n",
       "3  Senior Data Scientist - Risk Mitigation - Jers...   \n",
       "4  Personal Care Assistant - Yuba City, CA\\nKNOWL...   \n",
       "\n",
       "                                             bullets  \n",
       "0  [Design and develop platform security solution...  \n",
       "1  [Work with the Customer Support teams to unify...  \n",
       "2  [Monitors capacity and performance for product...  \n",
       "3  [3+ years of experience crafting, developing, ...  \n",
       "4  [Actively participates in the resident's plan ...  "
      ]
     },
     "execution_count": 3,
     "metadata": {},
     "output_type": "execute_result"
    }
   ],
   "source": [
    "# load HTML, store relevant\n",
    "# HTML sections in pandas data frame\n",
    "\n",
    "def parse_sections(html):\n",
    "    soup = bs4.BeautifulSoup(html, 'lxml')\n",
    "    title = soup.title.text\n",
    "    body = soup.body.text\n",
    "    raw_bullets = soup.find_all('li')\n",
    "    bullets = [bullet.text.strip() for bullet in raw_bullets]\n",
    "    return (title, body, bullets)\n",
    "\n",
    "cleaned_pages = []\n",
    "for path in Path('data/html_job_postings/').glob('*'):\n",
    "    file = open(path)\n",
    "    raw_page = file.read()\n",
    "    row = parse_sections(raw_page)\n",
    "    cleaned_pages.append(row)\n",
    "    file.close()\n",
    "\n",
    "jobs_df = DataFrame(cleaned_pages, columns=['title', 'body', 'bullets'])\n",
    "jobs_df.head()\n"
   ]
  },
  {
   "cell_type": "code",
   "execution_count": 4,
   "id": "1875ab06",
   "metadata": {},
   "outputs": [
    {
     "name": "stdout",
     "output_type": "stream",
     "text": [
      "(1337, 3)\n",
      "(497, 3)\n",
      "(492, 3)\n"
     ]
    }
   ],
   "source": [
    "# - remove duplicates \n",
    "# - filter for data science jobs given presence of non data science roles \n",
    "#   in the data set: analyst, database admin, etc.\n",
    "\n",
    "print(jobs_df.shape)\n",
    "\n",
    "jobs_df = jobs_df[\n",
    "    jobs_df['title'].str.contains(r'data scien(?:ce|tist)',\n",
    "    case=False)].copy()\n",
    "\n",
    "print(jobs_df.shape)\n",
    "\n",
    "jobs_df['bullets'] = jobs_df['bullets'].apply(tuple, 1)\n",
    "jobs_df.drop_duplicates(inplace=True)\n",
    "print(jobs_df.shape)"
   ]
  },
  {
   "cell_type": "code",
   "execution_count": 5,
   "id": "9425fe26",
   "metadata": {
    "scrolled": false
   },
   "outputs": [
    {
     "data": {
      "text/plain": [
       "3     Senior Data Scientist - Risk Mitigation - Jers...\n",
       "9     Director, Data Scientist, Natural Language Pro...\n",
       "10      eCommerce Senior Data Scientist - United States\n",
       "11    Associate Scientist, Data Science - Irving, TX...\n",
       "12                         Data Scientist - Seattle, WA\n",
       "16       Data Science Specialist - El Segundo, CA 90245\n",
       "18                         Data Scientist - Seattle, WA\n",
       "19                       Senior Data Scientist - Remote\n",
       "21    Data Scientist, Regulation, Evaluation, and Go...\n",
       "23    Data Scientist Manager - Hiring in Burbank! - ...\n",
       "24               Data Scientist - Los Angeles, CA 90017\n",
       "25         2020 Intern - Data Scientist - United States\n",
       "29                   Data Scientist - Seattle, WA 98101\n",
       "32    Data Science & Tagging Analyst - Bethesda, MD ...\n",
       "45                   Data Scientist - San Francisco, CA\n",
       "48    Data Scientist - Global Research & Analytic De...\n",
       "49    Data Scientist and Visualization Specialist - ...\n",
       "55    Data Scientist (Financial Services) - San Fran...\n",
       "57    Data Science & Analytics Intern (Paid) - Summe...\n",
       "59             Data Scientist, CoreApp - Menlo Park, CA\n",
       "Name: title, dtype: object"
      ]
     },
     "execution_count": 5,
     "metadata": {},
     "output_type": "execute_result"
    }
   ],
   "source": [
    "\n",
    "jobs_df['title'].head(20)"
   ]
  },
  {
   "cell_type": "code",
   "execution_count": 6,
   "id": "db4ad336",
   "metadata": {},
   "outputs": [],
   "source": [
    "# save data frame for subsequent notebooks\n",
    "\n",
    "jobs_df.to_pickle('data/jobs_df.pkl', compression='zip')"
   ]
  }
 ],
 "metadata": {
  "kernelspec": {
   "display_name": "Python 3.6.9 64-bit",
   "language": "python",
   "name": "python3"
  },
  "language_info": {
   "codemirror_mode": {
    "name": "ipython",
    "version": 3
   },
   "file_extension": ".py",
   "mimetype": "text/x-python",
   "name": "python",
   "nbconvert_exporter": "python",
   "pygments_lexer": "ipython3",
   "version": "3.6.9"
  },
  "vscode": {
   "interpreter": {
    "hash": "31f2aee4e71d21fbe5cf8b01ff0e069b9275f58929596ceb00d14d90e3e16cd6"
   }
  }
 },
 "nbformat": 4,
 "nbformat_minor": 5
}
