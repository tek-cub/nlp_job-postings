{
 "cells": [
  {
   "cell_type": "code",
   "execution_count": 1,
   "id": "1e0c4215",
   "metadata": {},
   "outputs": [],
   "source": [
    "# NOTEBOOK OVERVIEW\n",
    "# Limits the job postings dataset to those most similar\n",
    "# to the user's resume allowing:\n",
    "# - faster k-means processing in the following notebook\n",
    "# - less individual jobs postings to sift through from the\n",
    "#   perspective of a job seeker\n",
    "# \n",
    "# However doing so will almost certainly change the sample\n",
    "# from a statistical point of view. That is, make it less\n",
    "# representative of the original population, and more\n",
    "# representative of a different population similar to the\n",
    "# sample which was truncated non-arbitrarily. "
   ]
  },
  {
   "cell_type": "code",
   "execution_count": 2,
   "id": "eff2e12a",
   "metadata": {},
   "outputs": [],
   "source": [
    "from sklearn.feature_extraction.text import TfidfVectorizer\n",
    "from sklearn.metrics.pairwise import cosine_similarity\n",
    "\n",
    "import pandas as pd\n",
    "import numpy as np\n",
    "from matplotlib  import pyplot\n",
    "%matplotlib inline\n"
   ]
  },
  {
   "cell_type": "code",
   "execution_count": 3,
   "id": "f25956dd",
   "metadata": {},
   "outputs": [],
   "source": [
    "# load user resume and dataset\n",
    "\n",
    "resume = open('data/Liveproject Resume.txt')\n",
    "resume_dict  = {'title':'resume', 'body':resume.read(), 'bullets':''}\n",
    "resume.close()\n",
    "jobs_df = pd.read_pickle('data/jobs_df.pkl', 'zip')\n",
    "dataset_df = jobs_df.append(pd.DataFrame(resume_dict, index=[0]))\n"
   ]
  },
  {
   "cell_type": "code",
   "execution_count": 4,
   "id": "87c7b01e",
   "metadata": {},
   "outputs": [
    {
     "name": "stdout",
     "output_type": "stream",
     "text": [
      "resume vector dimensions: (1, 10011)\n",
      "jobs vector dimensions: (492, 10011)\n"
     ]
    }
   ],
   "source": [
    "# begin using NLP techniques:\n",
    "# - use tf-idf as embedding: transform resume and dataset into tf-idf vectors\n",
    "# - from below, TfidfVectorizer will default to a unigram for the n-gram\n",
    "#   parameter: i.e, it will only match on single words \n",
    " \n",
    "# use content of job posting webpages as corpus to derive vocabulary\n",
    "corpus = dataset_df['body']\n",
    "vocab = TfidfVectorizer(stop_words='english')\n",
    "freq_matrix = vocab.fit_transform(corpus)\n",
    "\n",
    "resume_vec = freq_matrix[-1, :]\n",
    "jobs_vec = freq_matrix[:-1, :]\n",
    "print('resume vector dimensions: {}'.format(resume_vec.shape))\n",
    "print('jobs vector dimensions: {}'.format(jobs_vec.shape))\n"
   ]
  },
  {
   "cell_type": "code",
   "execution_count": 5,
   "id": "6a32c090",
   "metadata": {
    "scrolled": true
   },
   "outputs": [
    {
     "data": {
      "text/plain": [
       "(492, 1)"
      ]
     },
     "execution_count": 5,
     "metadata": {},
     "output_type": "execute_result"
    }
   ],
   "source": [
    "# see how similar resume is to the rest of dataset\n",
    "\n",
    "cos_sims = cosine_similarity(jobs_vec, resume_vec)\n",
    "cos_sims.shape"
   ]
  },
  {
   "cell_type": "code",
   "execution_count": 6,
   "id": "9cf0f73e",
   "metadata": {
    "scrolled": true
   },
   "outputs": [
    {
     "name": "stdout",
     "output_type": "stream",
     "text": [
      "0.040947147438362044    0.04310242418954922    0.01670158213498872    0.023889020088984973    "
     ]
    }
   ],
   "source": [
    "# check some elements for expected results\n",
    "\n",
    "for i in range(4):\n",
    "    print(cos_sims[i][0], end='    ');"
   ]
  },
  {
   "cell_type": "code",
   "execution_count": 7,
   "id": "05e8b21e",
   "metadata": {},
   "outputs": [
    {
     "data": {
      "text/html": [
       "<div>\n",
       "<style scoped>\n",
       "    .dataframe tbody tr th:only-of-type {\n",
       "        vertical-align: middle;\n",
       "    }\n",
       "\n",
       "    .dataframe tbody tr th {\n",
       "        vertical-align: top;\n",
       "    }\n",
       "\n",
       "    .dataframe thead th {\n",
       "        text-align: right;\n",
       "    }\n",
       "</style>\n",
       "<table border=\"1\" class=\"dataframe\">\n",
       "  <thead>\n",
       "    <tr style=\"text-align: right;\">\n",
       "      <th></th>\n",
       "      <th>title</th>\n",
       "      <th>body</th>\n",
       "      <th>bullets</th>\n",
       "      <th>cosine_similarity</th>\n",
       "    </tr>\n",
       "  </thead>\n",
       "  <tbody>\n",
       "    <tr>\n",
       "      <th>0</th>\n",
       "      <td>Data Science Health Innovation Fellow Job - BI...</td>\n",
       "      <td>Data Science Health Innovation Fellow Job - BI...</td>\n",
       "      <td>(Demonstrated ability to propose, initiate, an...</td>\n",
       "      <td>0.158476</td>\n",
       "    </tr>\n",
       "    <tr>\n",
       "      <th>1</th>\n",
       "      <td>Post-doc: Dissemination/implementation and/or ...</td>\n",
       "      <td>Post-doc: Dissemination/implementation and/or ...</td>\n",
       "      <td>()</td>\n",
       "      <td>0.093225</td>\n",
       "    </tr>\n",
       "    <tr>\n",
       "      <th>2</th>\n",
       "      <td>Data Science Summer Institute Student Intern -...</td>\n",
       "      <td>Data Science Summer Institute Student Intern -...</td>\n",
       "      <td>(Students will work with scientists, engineers...</td>\n",
       "      <td>0.086933</td>\n",
       "    </tr>\n",
       "    <tr>\n",
       "      <th>3</th>\n",
       "      <td>Senior Data Scientist, Education - Redwood Cit...</td>\n",
       "      <td>Senior Data Scientist, Education - Redwood Cit...</td>\n",
       "      <td>(Leverage data to understand product, identify...</td>\n",
       "      <td>0.084046</td>\n",
       "    </tr>\n",
       "    <tr>\n",
       "      <th>4</th>\n",
       "      <td>Bioinformatics Associate Data Scientist - San ...</td>\n",
       "      <td>Bioinformatics Associate Data Scientist - San ...</td>\n",
       "      <td>(Work on designing and implementing a framewor...</td>\n",
       "      <td>0.076612</td>\n",
       "    </tr>\n",
       "  </tbody>\n",
       "</table>\n",
       "</div>"
      ],
      "text/plain": [
       "                                               title  \\\n",
       "0  Data Science Health Innovation Fellow Job - BI...   \n",
       "1  Post-doc: Dissemination/implementation and/or ...   \n",
       "2  Data Science Summer Institute Student Intern -...   \n",
       "3  Senior Data Scientist, Education - Redwood Cit...   \n",
       "4  Bioinformatics Associate Data Scientist - San ...   \n",
       "\n",
       "                                                body  \\\n",
       "0  Data Science Health Innovation Fellow Job - BI...   \n",
       "1  Post-doc: Dissemination/implementation and/or ...   \n",
       "2  Data Science Summer Institute Student Intern -...   \n",
       "3  Senior Data Scientist, Education - Redwood Cit...   \n",
       "4  Bioinformatics Associate Data Scientist - San ...   \n",
       "\n",
       "                                             bullets  cosine_similarity  \n",
       "0  (Demonstrated ability to propose, initiate, an...           0.158476  \n",
       "1                                                 ()           0.093225  \n",
       "2  (Students will work with scientists, engineers...           0.086933  \n",
       "3  (Leverage data to understand product, identify...           0.084046  \n",
       "4  (Work on designing and implementing a framewor...           0.076612  "
      ]
     },
     "execution_count": 7,
     "metadata": {},
     "output_type": "execute_result"
    }
   ],
   "source": [
    "\n",
    "jobs_df['cosine_similarity'] = cos_sims\n",
    "sorted_jobs_df = jobs_df.sort_values(by='cosine_similarity', ascending=False)\n",
    "sorted_jobs_df.reset_index(inplace=True, drop=True)\n",
    "sorted_jobs_df.head()"
   ]
  },
  {
   "cell_type": "code",
   "execution_count": 8,
   "id": "12a2a24b",
   "metadata": {},
   "outputs": [
    {
     "data": {
      "image/png": "[encoded data removed]",
      "text/plain": [
       "<Figure size 720x432 with 1 Axes>"
      ]
     },
     "metadata": {
      "needs_background": "light"
     },
     "output_type": "display_data"
    }
   ],
   "source": [
    "\n",
    "pyplot.figure(figsize=(10, 6))\n",
    "pyplot.title('cos similarity of job postings to resume')\n",
    "pyplot.xlabel('job postings number')\n",
    "pyplot.ylabel('cos similarity');\n",
    "pyplot.axvline(x=100, color='purple')\n",
    "\n",
    "sorted_jobs_df['cosine_similarity'].plot();"
   ]
  },
  {
   "cell_type": "code",
   "execution_count": 9,
   "id": "4d36e0bc",
   "metadata": {},
   "outputs": [],
   "source": [
    "# intuiting from chart's slope: save the first 100 most similar job postings\n",
    "\n",
    "pd.DataFrame(sorted_jobs_df[:100]).to_pickle('data/sorted_trunc_jobs_df.pkl', 'zip')"
   ]
  }
 ],
 "metadata": {
  "kernelspec": {
   "display_name": "Python 3.6.9 64-bit",
   "language": "python",
   "name": "python3"
  },
  "language_info": {
   "codemirror_mode": {
    "name": "ipython",
    "version": 3
   },
   "file_extension": ".py",
   "mimetype": "text/x-python",
   "name": "python",
   "nbconvert_exporter": "python",
   "pygments_lexer": "ipython3",
   "version": "3.6.9"
  },
  "vscode": {
   "interpreter": {
    "hash": "31f2aee4e71d21fbe5cf8b01ff0e069b9275f58929596ceb00d14d90e3e16cd6"
   }
  }
 },
 "nbformat": 4,
 "nbformat_minor": 5
}
