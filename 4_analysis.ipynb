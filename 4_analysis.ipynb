{
 "cells": [
  {
   "cell_type": "code",
   "execution_count": 40,
   "id": "2ebb81a2",
   "metadata": {},
   "outputs": [],
   "source": [
    "# NOTEBOOK OVERVIEW\n",
    "# Analyze the difference/similarity between user's resume and the clusters created\n",
    "# in previous notebook 4_cluster-requirements. Allowing one to glean improvements\n",
    "# to their resume and education/self-study.\n"
   ]
  },
  {
   "cell_type": "code",
   "execution_count": 41,
   "id": "64f56824",
   "metadata": {},
   "outputs": [],
   "source": [
    "from sklearn.feature_extraction.text import TfidfVectorizer\n",
    "from sklearn.decomposition import TruncatedSVD\n",
    "from sklearn.metrics.pairwise import cosine_similarity \n",
    "\n",
    "%matplotlib inline\n",
    "from matplotlib import pyplot\n",
    "import pandas as pd\n",
    "import numpy as np\n",
    "\n",
    "import pickle\n",
    "import random\n"
   ]
  },
  {
   "cell_type": "code",
   "execution_count": 42,
   "id": "b36f5fcc",
   "metadata": {},
   "outputs": [
    {
     "name": "stdout",
     "output_type": "stream",
     "text": [
      "(1747, 2)\n",
      "                                             bullets  cluster\n",
      "0  Demonstrated ability to propose, initiate, and...        0\n",
      "1  Entrepreneurial abilities: demonstrated skills...        0\n",
      "2  Self-motivated and works well both independent...        0\n",
      "3  Strong collaboration skills with highly techni...        2\n",
      "4  Excellent and demonstrated ability to regularl...        0\n"
     ]
    }
   ],
   "source": [
    "# manually enter skills listed on user's resume \n",
    "resume_skills = 'Python, Pandas, machine learning, natural language processing'\n",
    "\n",
    "# combine cluster data with assigned cluster\n",
    "\n",
    "sr_file = open('data/skill_reqs_list.pkl', 'rb')\n",
    "skill_reqs = pickle.load(sr_file)\n",
    "sr_file.close()\n",
    "\n",
    "# rtc: requirements-to-cluster\n",
    "rtc_df = pd.read_pickle('data/clust_labels_df.pkl', 'zip')\n",
    "rtc_df.insert(0, 'bullets', skill_reqs)\n",
    "print(rtc_df.shape)\n",
    "print(rtc_df.head())\n"
   ]
  },
  {
   "cell_type": "code",
   "execution_count": 43,
   "id": "b7686adf",
   "metadata": {},
   "outputs": [
    {
     "data": {
      "text/plain": [
       "{'0': 0.10461192426567278,\n",
       " '1': 0.03200316637997387,\n",
       " '2': 0.03739562362444337,\n",
       " '3': 0.47193141594816895}"
      ]
     },
     "execution_count": 43,
     "metadata": {},
     "output_type": "execute_result"
    }
   ],
   "source": [
    "# compute and store cosine similarities between user resume's skills\n",
    "# and the skill requirement clusters for visualization\n",
    "\n",
    "res_clust_sim = {}\n",
    "clustered_bullets = {}\n",
    "k = 4\n",
    "for i in range(k):\n",
    "    clustered_bullets[i] = rtc_df[rtc_df['cluster'] == i]['bullets']\n",
    "    clust = ' '.join(\n",
    "        (b for b in clustered_bullets[i]))\n",
    "    \n",
    "    vocab = TfidfVectorizer(stop_words='english')\n",
    "    vocab.fit((resume_skills, clust))\n",
    "    \n",
    "    resume_vec = vocab.transform((resume_skills,))\n",
    "    clust_vec = vocab.transform((clust,))\n",
    "\n",
    "    cs = cosine_similarity(resume_vec, clust_vec)\n",
    "    res_clust_sim['{}'.format(i)] = cs[0][0]\n",
    "    \n",
    "\n",
    "res_clust_sim"
   ]
  },
  {
   "cell_type": "code",
   "execution_count": 44,
   "id": "d035cd9f",
   "metadata": {},
   "outputs": [
    {
     "data": {
      "image/png": "[encoded data removed]",
      "text/plain": [
       "<Figure size 432x288 with 1 Axes>"
      ]
     },
     "metadata": {
      "needs_background": "light"
     },
     "output_type": "display_data"
    }
   ],
   "source": [
    "res_clust_sim = dict(sorted(res_clust_sim.items(), key=lambda item: item[1]))\n",
    "\n",
    "pyplot.title('cos similarity of resume to clusters')\n",
    "pyplot.xlabel('cluster')\n",
    "pyplot.ylabel('cos similarity')\n",
    "pyplot.bar(\n",
    "    x = res_clust_sim.keys(),\n",
    "    height = res_clust_sim.values());"
   ]
  },
  {
   "cell_type": "code",
   "execution_count": null,
   "id": "06aab849",
   "metadata": {},
   "outputs": [],
   "source": [
    "# It is apparent how skewed this user's resume document is to cluster 3. \n",
    "# How could one make improvements based off this? In general, are there \n",
    "# optimal outcomes with respect to peak vs uniformity of the cluster \n",
    "# similarities in this situation?\n",
    "#\n",
    "# Here are some suggestions from:\n",
    "# - thinking of what it means quantitatively \n",
    "# - incorporating limited knowledge of NLP, modern hiring process's/technologies \n",
    "#   used by employers, the competencies expected of people who work with data,\n",
    "#   and the data science profession\n",
    "# \n",
    "# Quantitatively\n",
    "#\n",
    "# Since similarity (cosine) is parameterized on the angles between vectors\n",
    "# and is negatively sloped; increasing the resume's similarity to a cluster(s)\n",
    "# can have the effect of decreasing it to other clusters(s), that is, a tradeoff\n",
    "# has to be made in that vector space. However in a different scenario \n",
    "# increasing the similarity to one cluster could increase the similarities to \n",
    "# most or all the clusters.\n",
    "#\n",
    "# This is easily understood with 3, 2D document vectors, with 2 equal angles \n",
    "# between them. Let the vector in the middle be the resume document, hence \n",
    "# decreasing the angle by rotating the middle vector closer to one of\n",
    "# the other two necessarily increases the angle between the middle vector\n",
    "# and the vector which it's now further away from (euclidean distance):\n",
    "# the similarity to one cluster increases at the expense of the other.\n",
    "#\n",
    "# Likewise for the above example, if one of the outermost vectors is the \n",
    "# resume document, decreasing the angle to the middle vector would do \n",
    "# the same for the other and hence increase the similarity for both of them.\n",
    "#\n",
    "# This simple 2D example can be extended by adding vectors to select directions\n",
    "# and checking the effects of trying to increase similarities under a different\n",
    "# setup, not just to a local similarity (a cluster) but global similarities \n",
    "# (more than one cluster).\n",
    "# \n",
    "# So depending on combinations of cardinalities and orientations of the \n",
    "# cluster vectors with respect to the resume vector, and the goals of \n",
    "# the job seeker: one can go about trying to maximize their similarity\n",
    "# to one/group/all of the clusters, like a least squares algorithm would. \n",
    "#\n",
    "# Qualitatively\n",
    "#\n",
    "# It's known that employers are using algorithms/models to assist filtering \n",
    "# the vast resumes they receive for a single position. So it's not a bad idea\n",
    "# to craft resumes with this in mind. However I perceive there is a point of \n",
    "# diminishing return trying to minimize differences to a group of job descriptions. \n",
    "#\n",
    "# This is attributed to several unknowns and their changing nature\n",
    "# (regarding the filter(s) being used) in any one employer's hiring process,\n",
    "# the limits of NLP, and the ability to properly sample this type of data. \n",
    "#\n",
    "# The word clouds in the 3_cluster-requirement notebook showed things that\n",
    "# I would expect to see from my time spent in the world of data science/analytics.\n",
    "# My guess is that applicant tracking systems, HR people, and hiring managers \n",
    "# will be looking for things that were not explicitly written in the job description. \n",
    "#\n",
    "# So at least having these words (or phrases if that's what was used in the \n",
    "# language model) on a resume, if only once, or having basic experience/knowledge \n",
    "# of them could very well help pass a boolean style check from a computer/human.\n",
    "# \n",
    "# In Conclusion\n",
    "# \n",
    "# Incorporating more of what's covered in the other clusters so that the \n",
    "# similarities are not as skewed, looks like a good course of action for \n",
    "# job seekers with a similar profile to the one is this project\n",
    "# (very skewed to one cluster).\n",
    "#\n",
    "# This way, resumes and skill sets can be tailored more to a given cluster(s) \n",
    "# (representative of job categories) that are more desirable; helping to grab \n",
    "# the attention of the computers and humans involved in the hiring process. \n",
    "# While at the same time maintaining a baseline of similarity to other clusters\n",
    "# so that a resume is not disqualified by those who consider it too narrow.\n"
   ]
  },
  {
   "cell_type": "code",
   "execution_count": 45,
   "id": "94286c15",
   "metadata": {
    "scrolled": true
   },
   "outputs": [
    {
     "name": "stdout",
     "output_type": "stream",
     "text": [
      "The top 7 skills in cluster 0 are: experience, skills, python, ability, work, sql, communication\n",
      "\n",
      "some sample job requirements or desired items:\n",
      "\n",
      "- Develop impactful reports, presentations, and ongoing deliverables \n",
      "\n",
      "- Develops tools and libraries to create efficiencies for future work. \n",
      "\n",
      "- Strong passion for creative content curation and building brand awareness \n",
      "\n",
      "- Using one or more of the following software packages: scikit-learn, numpy, pandas, jupyter, matplotlib, scipy, nltk, spacy, keras, tensorflow \n",
      "\n",
      "- Communication skills including the ability to identify and communicate data driven insights \n",
      "\n",
      "\n",
      "\n",
      "The top 7 skills in cluster 1 are: data, experience, science, analysis, visualization, using, sources\n",
      "\n",
      "some sample job requirements or desired items:\n",
      "\n",
      "- Experience with common data science toolkits, such as R, Weka, NumPy, MatLab, etc. Excellence in at least one of these is highly desirable. \n",
      "\n",
      "- Build a high-throughput data pipeline for training in a distributed environment. \n",
      "\n",
      "- Experience with big data platforms, especially Dask or Spark/Amazon EMR \n",
      "\n",
      "- Processing, cleansing, and verifying the integrity of data used for analysis \n",
      "\n",
      "- Experience with converting & writing distributed algorithms to process large amount of unstructured data. \n",
      "\n",
      "\n",
      "\n",
      "The top 7 skills in cluster 2 are: science, degree, computer, statistics, mathematics, field, related\n",
      "\n",
      "some sample job requirements or desired items:\n",
      "\n",
      "- Bachelor's Degree in computer sciences or related field \n",
      "\n",
      "- Pursing a Bachelor's or Master's degree in Mathematics, Computer Science, Data Science or related degree \n",
      "\n",
      "- Degree: Bachelor’s degree in business analytics, data science, statistics, engineering or related field. \n",
      "\n",
      "- MS or PhD in Computer Science, Mathematics, Physics, Economics, or a related field. \n",
      "\n",
      "- Master's Degree in Statistics, Computer Science, Engineering, Mathematics, or a related field \n",
      "\n",
      "\n",
      "\n",
      "The top 7 skills in cluster 3 are: learning, machine, deep, experience, techniques, algorithms, models\n",
      "\n",
      "some sample job requirements or desired items:\n",
      "\n",
      "- Write Python code to do classification using machine learning algorithms \n",
      "\n",
      "- Experience deploying machine learning models in production \n",
      "\n",
      "- Demonstrable, hands-on experience in developing advanced analytics algorithms/models, including time series forecasting, machine learning and deep learning, image processing, natural language processing, and speech recognition \n",
      "\n",
      "- Experience deploying machine learning models in production \n",
      "\n",
      "- Maintain knowledge of and concurrency with cutting-edge but commercially-viable (resilient and scalable) methodologies in the Data Science and primarily Machine Learning domains \n",
      "\n",
      "\n",
      "\n"
     ]
    }
   ],
   "source": [
    "# examine top skills and sample job requirements from each cluster \n",
    "\n",
    "cw_file = open('data/clust_words.pkl', 'rb')\n",
    "clust_words = pickle.load(cw_file)\n",
    "cw_file.close()\n",
    "random.seed(0)\n",
    "\n",
    "for i in range(k):\n",
    "    fetch_num = 7\n",
    "    print('The top {} skills in cluster {} are: {}'.format(\n",
    "        fetch_num, i, ', '.join(clust_words[i][:fetch_num])), end='\\n\\n')\n",
    "    \n",
    "    print('some sample job requirements or desired items:', end='\\n\\n')\n",
    "    for j in range(5):\n",
    "        print('- {} \\n'.format(\n",
    "            random.choice(tuple(clustered_bullets[i]))))\n",
    "    print('\\n')\n"
   ]
  }
 ],
 "metadata": {
  "kernelspec": {
   "display_name": "Python 3.6.9 64-bit",
   "language": "python",
   "name": "python3"
  },
  "language_info": {
   "codemirror_mode": {
    "name": "ipython",
    "version": 3
   },
   "file_extension": ".py",
   "mimetype": "text/x-python",
   "name": "python",
   "nbconvert_exporter": "python",
   "pygments_lexer": "ipython3",
   "version": "3.6.9"
  },
  "vscode": {
   "interpreter": {
    "hash": "31f2aee4e71d21fbe5cf8b01ff0e069b9275f58929596ceb00d14d90e3e16cd6"
   }
  }
 },
 "nbformat": 4,
 "nbformat_minor": 5
}
